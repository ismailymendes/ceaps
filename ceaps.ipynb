{
 "cells": [
  {
   "attachments": {},
   "cell_type": "markdown",
   "metadata": {},
   "source": [
    "# IMPORTAÇÃO DOS DADOS"
   ]
  },
  {
   "attachments": {},
   "cell_type": "markdown",
   "metadata": {},
   "source": [
    "**Importando as bibliotecas**"
   ]
  },
  {
   "cell_type": "code",
   "execution_count": null,
   "metadata": {},
   "outputs": [],
   "source": [
    "import pandas as pd\n",
    "import numpy as np\n",
    "import matplotlib.pyplot as plt\n",
    "import seaborn as sns\n",
    "\n",
    "import warnings\n",
    "warnings.filterwarnings('ignore')"
   ]
  },
  {
   "attachments": {},
   "cell_type": "markdown",
   "metadata": {},
   "source": [
    "**Importando o dataset**\n",
    "\n",
    "Dados obtidos no portal da transparência do senado, pode ser obtido [clicando aqui](https://www12.senado.leg.br/transparencia/dados-abertos-transparencia/dados-abertos-ceaps).\n",
    ">Ao importar os arquivos .csv, me deparei com o erro 'utf-8 codec can't decode byte 0xf3 in position 213: invalid continuation byte'.  \n",
    ">Consegui resolver definindo o encoding para 'cp1252', não obtive sucesso com 'latin1' ou 'utf-8'."
   ]
  },
  {
   "cell_type": "code",
   "execution_count": null,
   "metadata": {},
   "outputs": [],
   "source": [
    "ceaps_18 = pd.read_csv('data/despesa_ceaps_2018.csv', sep=';', header=1, encoding='cp1252')\n",
    "ceaps_19 = pd.read_csv('data/despesa_ceaps_2019.csv', sep=';', header=1, encoding='cp1252')\n",
    "ceaps_20 = pd.read_csv('data/despesa_ceaps_2020.csv', sep=';', header=1, encoding='cp1252')\n",
    "ceaps_21 = pd.read_csv('data/despesa_ceaps_2021.csv', sep=';', header=1, encoding='cp1252')"
   ]
  },
  {
   "attachments": {},
   "cell_type": "markdown",
   "metadata": {},
   "source": [
    "**Unindo os datasets**"
   ]
  },
  {
   "cell_type": "code",
   "execution_count": null,
   "metadata": {},
   "outputs": [],
   "source": [
    "ceaps_unido = [ceaps_18, ceaps_19, ceaps_20, ceaps_21]\n",
    "ceaps = pd.concat(ceaps_unido)\n",
    "ceaps.reset_index(drop=True)\n",
    "ceaps.head(3)"
   ]
  },
  {
   "attachments": {},
   "cell_type": "markdown",
   "metadata": {},
   "source": [
    "# ANÁLISE DOS DADOS"
   ]
  },
  {
   "cell_type": "code",
   "execution_count": null,
   "metadata": {},
   "outputs": [],
   "source": [
    "# Verifica o formato e o tipo dos dados\n",
    "ceaps.info()"
   ]
  },
  {
   "attachments": {},
   "cell_type": "markdown",
   "metadata": {},
   "source": [
    "**Verificando valores ausentes**"
   ]
  },
  {
   "cell_type": "code",
   "execution_count": null,
   "metadata": {},
   "outputs": [],
   "source": [
    "# Verifica a quantidade de valores ausentes\n",
    "ceaps.isna().sum()"
   ]
  },
  {
   "cell_type": "code",
   "execution_count": null,
   "metadata": {},
   "outputs": [],
   "source": [
    "# Verifica a porcentagem de valores ausentes\n",
    "print('Valores ausentes na coluna Documento:', round((3045/77043)*100,2),'%')\n",
    "print('Valores ausentes na coluna Detalhamento:', round((28640/77043)*100,2),'%')"
   ]
  },
  {
   "attachments": {},
   "cell_type": "markdown",
   "metadata": {},
   "source": [
    "**Verificando valores ausentes como gráfico**"
   ]
  },
  {
   "cell_type": "code",
   "execution_count": null,
   "metadata": {},
   "outputs": [],
   "source": [
    "# Agrupa as quantidade de dados nulos e não nulos em um dataframe\n",
    "ceaps_isnull = ceaps.isnull().sum()\n",
    "ceaps_notnull = ceaps.notnull().sum()\n",
    "ceaps_colunas = pd.DataFrame({'Válido':ceaps_notnull, 'Ausente':ceaps_isnull})\n",
    "\n",
    "# Gráfico de barras\n",
    "ax = ceaps_colunas.sort_values(by='Ausente',ascending =False).plot.bar(stacked=True, width=0.7, figsize = (12,3))\n",
    "\n",
    "pos = ax.get_position()\n",
    "ax.set_position([pos.x0, pos.y0, pos.width * 0.7, pos.height])\n",
    "ax.legend(loc='right', prop={'size': 8}, bbox_to_anchor=(1.15, 0.925))\n",
    "\n",
    "plt.xticks(fontsize=6, rotation=30)\n",
    "plt.yticks(fontsize=8, rotation=0)\n",
    "ax.set_title('VALORES AUSENTES')"
   ]
  },
  {
   "attachments": {},
   "cell_type": "markdown",
   "metadata": {},
   "source": [
    "**Verificando valores ausentes como tabela**"
   ]
  },
  {
   "cell_type": "code",
   "execution_count": null,
   "metadata": {},
   "outputs": [],
   "source": [
    "# Verificando visualmente os valores ausentes do campo DETALHAMENTO\n",
    "ceaps[ceaps['DOCUMENTO'].isnull()].head()"
   ]
  },
  {
   "cell_type": "code",
   "execution_count": null,
   "metadata": {},
   "outputs": [],
   "source": [
    "# Verificando visualmente os valores ausentes do campo DETALHAMENTO\n",
    "ceaps[ceaps['DETALHAMENTO'].isnull()].head()\n",
    "#ceaps[['TIPO_DESPESA', 'FORNECEDOR', 'DETALHAMENTO']][ceaps['DETALHAMENTO'].isna()]"
   ]
  },
  {
   "attachments": {},
   "cell_type": "markdown",
   "metadata": {},
   "source": [
    "# MANIPULAÇÃO DOS DADOS"
   ]
  },
  {
   "attachments": {},
   "cell_type": "markdown",
   "metadata": {},
   "source": [
    "**Preenchendo valores ausentes**"
   ]
  },
  {
   "cell_type": "code",
   "execution_count": null,
   "metadata": {},
   "outputs": [],
   "source": [
    "ceaps['DETALHAMENTO'] = (\n",
    "    ceaps['DETALHAMENTO'].fillna('N/D') # N/D = Não disponível\n",
    "    .reset_index(drop=True)\n",
    ")\n",
    "ceaps = ceaps.drop(columns=['DOCUMENTO']) \n",
    "\n",
    "# ceaps['DOCUMENTO'] = (    \n",
    "#     ceaps['DOCUMENTO'].fillna('S/N') #S/N = Sem número\n",
    "#     .reset_index(drop=True)\n",
    "#   )"
   ]
  },
  {
   "cell_type": "code",
   "execution_count": null,
   "metadata": {},
   "outputs": [],
   "source": [
    "# Verifica se os valores ausente foram preenchidos\n",
    "ceaps.loc[ceaps['DETALHAMENTO'].str.contains('N/D', na=False)].head(5)"
   ]
  },
  {
   "cell_type": "code",
   "execution_count": null,
   "metadata": {},
   "outputs": [],
   "source": [
    "# Verifica se os valores ausente de DETALHAMENTO foram preenchidos\n",
    "ceaps[['TIPO_DESPESA', 'FORNECEDOR', 'DETALHAMENTO']][ceaps['DETALHAMENTO'].isna()]"
   ]
  },
  {
   "cell_type": "code",
   "execution_count": null,
   "metadata": {},
   "outputs": [],
   "source": [
    "# Visualiza se os valores ausentes de DETALHAMENTO estão preenchidos com N/D\n",
    "ceaps.loc[ceaps['DETALHAMENTO'].str.contains('N/D', na=False)].head()"
   ]
  },
  {
   "cell_type": "code",
   "execution_count": null,
   "metadata": {},
   "outputs": [],
   "source": [
    "# Visualiza se os valores ausentes de DOCUMENTO estão preenchidos com S/D\n",
    "#ceaps.loc[ceaps['DOCUMENTO'].str.contains('S/N', na=False)].head()"
   ]
  },
  {
   "attachments": {},
   "cell_type": "markdown",
   "metadata": {},
   "source": [
    "**Formatando os dados**"
   ]
  },
  {
   "cell_type": "code",
   "execution_count": null,
   "metadata": {},
   "outputs": [],
   "source": [
    "# Verifica os fornecedores com a palavra S/A\n",
    "\n",
    "ceaps.loc[ceaps['FORNECEDOR'].str.contains('S/A', na=False)].drop_duplicates(subset=['FORNECEDOR'])"
   ]
  },
  {
   "cell_type": "code",
   "execution_count": null,
   "metadata": {},
   "outputs": [],
   "source": [
    "ceaps.iloc[[40]]"
   ]
  },
  {
   "cell_type": "code",
   "execution_count": null,
   "metadata": {},
   "outputs": [],
   "source": [
    "ceaps.FORNECEDOR.head()"
   ]
  },
  {
   "cell_type": "code",
   "execution_count": null,
   "metadata": {},
   "outputs": [],
   "source": [
    "# Formata os dados\n",
    "ceaps['SENADOR'] = ceaps['SENADOR'].str.title() #Senador com primeira letra maiúsculo\n",
    "ceaps['FORNECEDOR'] = ceaps['FORNECEDOR'].str.title() #Fornecedor com primeira letra maiúsculo\n",
    "ceaps['FORNECEDOR'] = ceaps['FORNECEDOR'].replace('Ltda','LTDA.', regex=True)\n",
    "ceaps['FORNECEDOR'] = ceaps['FORNECEDOR'].replace(r'LTDA\\..', 'LTDA.', regex=True)\n",
    "ceaps['FORNECEDOR'] = ceaps['FORNECEDOR'].replace(' S A',' S.A.', regex=True)\n",
    "ceaps.head(3)\n",
    "\n",
    "#ceaps['DOCUMENTO'] = ceaps['DOCUMENTO'].replace('(?i)s\\/n(.*)','S/N', regex=True) #Transforma s/n em S/N. (?i) ignora case-sensitive, s\\/n busca por s/n, (.*) com qualquer caractere depois."
   ]
  },
  {
   "cell_type": "code",
   "execution_count": null,
   "metadata": {},
   "outputs": [],
   "source": [
    "# Verifica se DETALHAMENTO contém 'n/d' em maíusculo\n",
    "ceaps.loc[ceaps['DETALHAMENTO'].str.contains('N/D', na=False)].drop_duplicates(subset=['DETALHAMENTO'])"
   ]
  },
  {
   "cell_type": "code",
   "execution_count": null,
   "metadata": {},
   "outputs": [],
   "source": [
    "# Verifica se DOCUMENTO contém 'n/d' em maiúsculo\n",
    "#ceaps.loc[ceaps['DOCUMENTO'].str.contains('S/N', na=False)].drop_duplicates(subset=['DOCUMENTO'])"
   ]
  },
  {
   "cell_type": "code",
   "execution_count": null,
   "metadata": {},
   "outputs": [],
   "source": [
    "# Verifica se DOCUMENTO contém 's/n' em minúsculo\n",
    "#ceaps.loc[ceaps['DOCUMENTO'].str.contains('s/n', na=False)].drop_duplicates(subset=['DOCUMENTO'])"
   ]
  },
  {
   "cell_type": "code",
   "execution_count": null,
   "metadata": {},
   "outputs": [],
   "source": [
    "# Verifica se FORNECEDER contém 'LTDA'\n",
    "ceaps.loc[ceaps['FORNECEDOR'].str.contains('LTDA', na=False)].drop_duplicates(subset=['FORNECEDOR'])"
   ]
  },
  {
   "cell_type": "code",
   "execution_count": null,
   "metadata": {},
   "outputs": [],
   "source": [
    "# Verifica se FORNECEDER contém 'S.A.'\n",
    "ceaps.loc[ceaps['FORNECEDOR'].str.contains('S.A.', na=False)].drop_duplicates(subset=['FORNECEDOR'])"
   ]
  },
  {
   "cell_type": "code",
   "execution_count": null,
   "metadata": {},
   "outputs": [],
   "source": [
    "# Verifica se ainda resta valores ausentes\n",
    "ceaps.isna().sum()"
   ]
  },
  {
   "cell_type": "code",
   "execution_count": null,
   "metadata": {},
   "outputs": [],
   "source": [
    "# Verifica quais TIPO_DESPESA existem\n",
    "ceaps[['TIPO_DESPESA']].drop_duplicates()"
   ]
  },
  {
   "cell_type": "code",
   "execution_count": null,
   "metadata": {},
   "outputs": [],
   "source": [
    "# Renomeia o TIPO_DESPESA para ficar consistente ao canal de transparência dos senadores individuais\n",
    "# Exemplo: https://www6g.senado.leg.br/transparencia/sen/5985/?ano=2022\n",
    "\n",
    "ceaps['TIPO_DESPESA'] = ceaps['TIPO_DESPESA'].replace({'Aluguel de imóveis para escritório político, compreendendo despesas concernentes a eles.':'Aluguel de imóveis para escritório político',\n",
    "       'Divulgação da atividade parlamentar': 'Divulgação da atividade parlamentar',\n",
    "       'Passagens aéreas, aquáticas e terrestres nacionais': 'Passagens aéreas, aquáticas e terrestres nacionais',\n",
    "       'Locomoção, hospedagem, alimentação, combustíveis e lubrificantes': 'Locomoção, hospedagem, alimentação e combustíveis',\n",
    "       'Contratação de consultorias, assessorias, pesquisas, trabalhos técnicos e outros serviços de apoio ao exercício do mandato parlamentar': 'Contratação de serviços de apoio ao parlamentar ',\n",
    "       'Aquisição de material de consumo para uso no escritório político, inclusive aquisição ou locação de software, despesas postais, aquisição de publicações, locação de móveis e de equipamentos. ': 'Aquisição de material de consumo ',\n",
    "       'Serviços de Segurança Privada': 'Serviços de Segurança Privada '})"
   ]
  },
  {
   "cell_type": "code",
   "execution_count": null,
   "metadata": {},
   "outputs": [],
   "source": [
    "ceaps[['TIPO_DESPESA']].drop_duplicates()"
   ]
  },
  {
   "attachments": {},
   "cell_type": "markdown",
   "metadata": {},
   "source": [
    "**Convertendo os dados**"
   ]
  },
  {
   "cell_type": "code",
   "execution_count": null,
   "metadata": {},
   "outputs": [],
   "source": [
    "ceaps.info()"
   ]
  },
  {
   "cell_type": "code",
   "execution_count": null,
   "metadata": {},
   "outputs": [],
   "source": [
    "# Converte o VALOR_REEMBOLSADO para float\n",
    "ceaps['VALOR_REEMBOLSADO'] = ceaps['VALOR_REEMBOLSADO'].str.replace(',', '.')\n",
    "ceaps['VALOR_REEMBOLSADO'] = ceaps['VALOR_REEMBOLSADO'].apply(float)\n",
    "\n",
    "# Para visualização dos valores de forma mais humana\n",
    "# ceaps['VALOR_REEMBOLSADO'] = ceaps['VALOR_REEMBOLSADO'].map('{:,.2f}'.format).str.replace(',', '~').str.replace('.', ',').str.replace('~', '.')\n",
    "\n",
    "ceaps.iloc[[40]]"
   ]
  },
  {
   "cell_type": "code",
   "execution_count": null,
   "metadata": {},
   "outputs": [],
   "source": [
    "ceaps[['VALOR_REEMBOLSADO']].boxplot()"
   ]
  },
  {
   "cell_type": "code",
   "execution_count": null,
   "metadata": {},
   "outputs": [],
   "source": [
    "plt.plot(ceaps.VALOR_REEMBOLSADO)"
   ]
  },
  {
   "cell_type": "code",
   "execution_count": null,
   "metadata": {},
   "outputs": [],
   "source": [
    "ceaps[['SENADOR', 'VALOR_REEMBOLSADO', 'TIPO_DESPESA', 'DETALHAMENTO']].drop_duplicates(subset='VALOR_REEMBOLSADO').sort_values('VALOR_REEMBOLSADO').head(20)"
   ]
  },
  {
   "cell_type": "code",
   "execution_count": null,
   "metadata": {},
   "outputs": [],
   "source": [
    "ceaps[ceaps.VALOR_REEMBOLSADO < 10].sort_values(by='VALOR_REEMBOLSADO')"
   ]
  },
  {
   "cell_type": "code",
   "execution_count": null,
   "metadata": {},
   "outputs": [],
   "source": [
    "# Quantos valores abaixo de 10 reais existem\n",
    "ceaps[ceaps.VALOR_REEMBOLSADO < 10].shape[0]"
   ]
  },
  {
   "cell_type": "code",
   "execution_count": null,
   "metadata": {},
   "outputs": [],
   "source": [
    "# Quantos valores acima de 40 mil reais existem\n",
    "ceaps[ceaps.VALOR_REEMBOLSADO > 40000].shape[0]"
   ]
  },
  {
   "cell_type": "code",
   "execution_count": null,
   "metadata": {},
   "outputs": [],
   "source": [
    "ceaps['VALOR_REEMBOLSADO'].describe()"
   ]
  },
  {
   "cell_type": "code",
   "execution_count": null,
   "metadata": {},
   "outputs": [],
   "source": [
    "# Verifica se o VALOR_REEMBOLSADO foi convertido para float\n",
    "ceaps.info()"
   ]
  },
  {
   "attachments": {},
   "cell_type": "markdown",
   "metadata": {},
   "source": [
    "**Convertendo o valor data**"
   ]
  },
  {
   "cell_type": "code",
   "execution_count": null,
   "metadata": {},
   "outputs": [],
   "source": [
    "# Separa o mês e ano e substitui o DATA_TEMP\n",
    "ceaps['DATA_TEMP'] = ceaps['DATA']\n",
    "\n",
    "# Converte para datetime (ano-mês-dia) e transforma os valores incorretos em NaT\n",
    "# ceaps['DATA'] = pd.to_datetime(ceaps['DATA'], format='%Y-%m-%d', errors = 'coerce')\n",
    "ceaps['DATA'] = pd.to_datetime(ceaps['DATA'], dayfirst=True, errors = 'coerce')"
   ]
  },
  {
   "cell_type": "code",
   "execution_count": null,
   "metadata": {},
   "outputs": [],
   "source": [
    "# Verifica se ainda tem dados não convertidos para datetime\n",
    "ceaps.isna().sum()"
   ]
  },
  {
   "cell_type": "code",
   "execution_count": null,
   "metadata": {},
   "outputs": [],
   "source": [
    "# Organiza a data em ordem ascendente\n",
    "ceaps['DATA'].sort_values()"
   ]
  },
  {
   "cell_type": "code",
   "execution_count": null,
   "metadata": {},
   "outputs": [],
   "source": [
    "# Seleciona as datas não convertidas juntamente com a data antes da conversão para comparação\n",
    "ceaps[['ANO', 'MES', 'DATA', 'DATA_TEMP']][ceaps['DATA'].isna()]"
   ]
  },
  {
   "cell_type": "code",
   "execution_count": null,
   "metadata": {},
   "outputs": [],
   "source": [
    "# Filtra todas as datas menores que 2017\n",
    "ceaps[pd.to_datetime(ceaps['DATA'].astype(str)).dt.year <= 2016].drop_duplicates()\n",
    "# Notei que o campo ANO e MES possui inconsistências com o campo DATA\n",
    "# Decidi aplicar o mesmo método de separar o dia, mês, ano e aplicar no campo DATA ao invés de fillna"
   ]
  },
  {
   "cell_type": "code",
   "execution_count": null,
   "metadata": {},
   "outputs": [],
   "source": [
    "#ceaps['DIA'] = ceaps.DATA.str.slice(-2)\n",
    "#ceaps['MES'] = ceaps.DATA.str.slice(5, 7)\n",
    "#ceaps['MES'] = ceaps['MES'].astype('str').apply(lambda x: '0'+x if len(x)==1 else  x)\n",
    "\n",
    "ceaps['DATA'] = ceaps['DATA'].astype('str') #transforma a data em string\n",
    "ceaps['DIA_MES_ANO'] = ceaps['ANO'].astype('str') + '-' + ceaps.DATA.str.slice(5, 7) + '-' + ceaps.DATA.str.slice(-2) #une o ano+mês+dia\n",
    "ceaps['DATA'] = ceaps['DIA_MES_ANO'] #substitui a DATA pelos valores corretos\n",
    "\n",
    "ceaps['DATA'] = pd.to_datetime(ceaps['DATA']) #converte a data para datetime\n",
    "ceaps = ceaps.drop(columns=['DIA_MES_ANO', 'DATA_TEMP']) #dropa as colunas temporárias"
   ]
  },
  {
   "cell_type": "code",
   "execution_count": null,
   "metadata": {},
   "outputs": [],
   "source": [
    "ceaps.info()"
   ]
  },
  {
   "cell_type": "code",
   "execution_count": null,
   "metadata": {},
   "outputs": [],
   "source": [
    "# Verifica se ainda existe valores ausentes\n",
    "ceaps.isna().sum()"
   ]
  }
 ],
 "metadata": {
  "kernelspec": {
   "display_name": "datascience",
   "language": "python",
   "name": "python3"
  },
  "language_info": {
   "codemirror_mode": {
    "name": "ipython",
    "version": 3
   },
   "file_extension": ".py",
   "mimetype": "text/x-python",
   "name": "python",
   "nbconvert_exporter": "python",
   "pygments_lexer": "ipython3",
   "version": "3.10.8"
  },
  "orig_nbformat": 4,
  "vscode": {
   "interpreter": {
    "hash": "7f3c42746d99043f071b835a59ef4aba7cc2276c6a6dea3da8db9b817525a73f"
   }
  }
 },
 "nbformat": 4,
 "nbformat_minor": 2
}
