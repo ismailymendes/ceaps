{
 "cells": [
  {
   "attachments": {},
   "cell_type": "markdown",
   "metadata": {},
   "source": [
    "# INSERINDO DOS DADOS"
   ]
  },
  {
   "attachments": {},
   "cell_type": "markdown",
   "metadata": {},
   "source": [
    "## Importando as bibliotecas"
   ]
  },
  {
   "cell_type": "code",
   "execution_count": null,
   "metadata": {},
   "outputs": [],
   "source": [
    "import pandas as pd\n",
    "import numpy as np\n",
    "import matplotlib.pyplot as plt\n",
    "import seaborn as sns\n",
    "\n",
    "import warnings\n",
    "warnings.filterwarnings('ignore')"
   ]
  },
  {
   "attachments": {},
   "cell_type": "markdown",
   "metadata": {},
   "source": [
    "## Importando os dados"
   ]
  },
  {
   "cell_type": "code",
   "execution_count": null,
   "metadata": {},
   "outputs": [],
   "source": [
    "# Dados obtidos no portal da transparência do senado no link: https://www12.senado.leg.br/transparencia/dados-abertos-transparencia/dados-abertos-ceaps\n",
    "ceaps_18 = pd.read_csv('data/despesa_ceaps_2018.csv', sep=';', header=1, encoding='cp1252')\n",
    "ceaps_19 = pd.read_csv('data/despesa_ceaps_2019.csv', sep=';', header=1, encoding='cp1252')\n",
    "ceaps_20 = pd.read_csv('data/despesa_ceaps_2020.csv', sep=';', header=1, encoding='cp1252')\n",
    "ceaps_21 = pd.read_csv('data/despesa_ceaps_2021.csv', sep=';', header=1, encoding='cp1252')\n",
    "\n",
    "# Ao importar os arquivos .csv, me deparei com o erro 'utf-8 codec can't decode byte 0xf3 in position 213: invalid continuation byte'.\n",
    "# Consegui resolver definindo o encoding para 'cp1252', não obtive sucesso com 'latin1' ou 'utf-8'."
   ]
  },
  {
   "attachments": {},
   "cell_type": "markdown",
   "metadata": {},
   "source": [
    "## Unindo os datasets"
   ]
  },
  {
   "cell_type": "code",
   "execution_count": null,
   "metadata": {},
   "outputs": [],
   "source": [
    "ceaps_unido = [ceaps_18, ceaps_19, ceaps_20, ceaps_21]\n",
    "ceaps = pd.concat(ceaps_unido)\n",
    "ceaps.reset_index(drop=True)\n",
    "ceaps.head(3)"
   ]
  },
  {
   "attachments": {},
   "cell_type": "markdown",
   "metadata": {},
   "source": [
    "# VERIFICANDO OS DADOS"
   ]
  },
  {
   "cell_type": "code",
   "execution_count": null,
   "metadata": {},
   "outputs": [],
   "source": [
    "# Verifica o formato e o tipo dos dados\n",
    "ceaps.info()"
   ]
  }
 ],
 "metadata": {
  "kernelspec": {
   "display_name": "datascience",
   "language": "python",
   "name": "python3"
  },
  "language_info": {
   "codemirror_mode": {
    "name": "ipython",
    "version": 3
   },
   "file_extension": ".py",
   "mimetype": "text/x-python",
   "name": "python",
   "nbconvert_exporter": "python",
   "pygments_lexer": "ipython3",
   "version": "3.10.6"
  },
  "orig_nbformat": 4,
  "vscode": {
   "interpreter": {
    "hash": "7f3c42746d99043f071b835a59ef4aba7cc2276c6a6dea3da8db9b817525a73f"
   }
  }
 },
 "nbformat": 4,
 "nbformat_minor": 2
}
